{
 "cells": [
  {
   "cell_type": "code",
   "execution_count": 3,
   "metadata": {},
   "outputs": [
    {
     "name": "stdout",
     "output_type": "stream",
     "text": [
      "Simple Representations of BPS Algebras: the case of $Y(\\widehat{\\mathfrak{gl}}_2)$\n",
      "Background independent tensor networks\n",
      "Transition dynamics in the $Λ_{s}$CDM model: Implications for bound cosmic structures\n",
      "Probing the small scale structure of the Inter-Galactic Medium with ESPRESSO: spectroscopy of the lensed QSO UM673\n",
      "Safeguarding Oscillators and Qudits with Distributed Two-Mode Squeezing\n",
      "Complexity of graph-state preparation by Clifford circuits\n",
      "Revisiting Schwarzschild black hole singularity through string theory\n",
      "A Groupoid Construction of Functional Integrals: Brownian Motion and Some TQFTs\n",
      "Individual addressing and state readout of trapped ions utilizing rf micromotion\n",
      "Quantum Anomalous Hall Effect in $d$-Electron Kagome Systems: Chern Insulating States from Transverse Spin-Orbit Coupling\n",
      "['Simple Representations of BPS Algebras: the case of $Y(\\\\widehat{\\\\mathfrak{gl}}_2)$', 'Background independent tensor networks', 'Transition dynamics in the $Λ_{s}$CDM model: Implications for bound cosmic structures', 'Probing the small scale structure of the Inter-Galactic Medium with ESPRESSO: spectroscopy of the lensed QSO UM673', 'Safeguarding Oscillators and Qudits with Distributed Two-Mode Squeezing', 'Complexity of graph-state preparation by Clifford circuits', 'Revisiting Schwarzschild black hole singularity through string theory', 'A Groupoid Construction of Functional Integrals: Brownian Motion and Some TQFTs', 'Individual addressing and state readout of trapped ions utilizing rf micromotion', 'Quantum Anomalous Hall Effect in $d$-Electron Kagome Systems: Chern Insulating States from Transverse Spin-Orbit Coupling']\n",
      "http://arxiv.org/abs/cond-mat/0603029v1\n",
      "From stripe to checkerboard order on the square lattice in the presence of quenched disorder\n"
     ]
    }
   ],
   "source": [
    "import arxiv\n",
    "\n",
    "# Construct the default API client.\n",
    "client = arxiv.Client()\n",
    "\n",
    "# Search for the 10 most recent articles matching the keyword \"quantum.\"\n",
    "search = arxiv.Search(query=\"quantum\", max_results=10, sort_by=arxiv.SortCriterion.SubmittedDate)\n",
    "\n",
    "results = client.results(search)\n",
    "\n",
    "# `results` is a generator; you can iterate over its elements one by one...\n",
    "for r in client.results(search):\n",
    "    print(r.title)\n",
    "# ...or exhaust it into a list. Careful: this is slow for large results sets.\n",
    "all_results = list(results)\n",
    "print([r.title for r in all_results])\n",
    "\n",
    "# For advanced query syntax documentation, see the arXiv API User Manual:\n",
    "# https://arxiv.org/help/api/user-manual#query_details\n",
    "search = arxiv.Search(query=\"au:del_maestro AND ti:checkerboard\")\n",
    "first_result = next(client.results(search))\n",
    "print(first_result)\n",
    "\n",
    "# Search for the paper with ID \"1605.08386v1\"\n",
    "search_by_id = arxiv.Search(id_list=[\"1605.08386v1\"])\n",
    "# Reuse client to fetch the paper, then print its title.\n",
    "first_result = next(client.results(search))\n",
    "print(first_result.title)"
   ]
  },
  {
   "cell_type": "code",
   "execution_count": 4,
   "metadata": {},
   "outputs": [
    {
     "name": "stdout",
     "output_type": "stream",
     "text": [
      "Tag-LLM: Repurposing General-Purpose LLMs for Specialized Domains\n",
      "Unlocking Sales Growth: Account Prioritization Engine with Explainable AI\n"
     ]
    }
   ],
   "source": [
    "import arxiv\n",
    "import ssl\n",
    "\n",
    "ssl._create_default_https_context = ssl._create_unverified_context\n",
    "\n",
    "results = arxiv.Client().results(arxiv.Search(id_list=[\"2402.05140\", \"2306.07464\"]))\n",
    "for paper in results:\n",
    "    print(paper.title)\n",
    "    paper.download_pdf()"
   ]
  }
 ],
 "metadata": {
  "kernelspec": {
   "display_name": ".venv",
   "language": "python",
   "name": "python3"
  },
  "language_info": {
   "codemirror_mode": {
    "name": "ipython",
    "version": 3
   },
   "file_extension": ".py",
   "mimetype": "text/x-python",
   "name": "python",
   "nbconvert_exporter": "python",
   "pygments_lexer": "ipython3",
   "version": "3.11.4"
  }
 },
 "nbformat": 4,
 "nbformat_minor": 2
}
